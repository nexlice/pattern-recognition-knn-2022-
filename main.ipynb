{
 "cells": [
  {
   "cell_type": "markdown",
   "metadata": {},
   "source": [
    "# library import"
   ]
  },
  {
   "cell_type": "code",
   "execution_count": 161,
   "metadata": {},
   "outputs": [],
   "source": [
    "import numpy as np\n",
    "import matplotlib.image as img\n",
    "import matplotlib.pyplot as plt\n",
    "import matplotlib.colors as colors"
   ]
  },
  {
   "cell_type": "markdown",
   "metadata": {},
   "source": [
    "# data loading"
   ]
  },
  {
   "cell_type": "code",
   "execution_count": 187,
   "metadata": {},
   "outputs": [
    {
     "name": "stdout",
     "output_type": "stream",
     "text": [
      "int32\n",
      "[['40' '2' '1' ... '25' '9' '0']\n",
      " ['40' '2' '1' ... '54' '10' '1']\n",
      " ['40' '2' '1' ... '43' '14' '1']\n",
      " ...\n",
      " ['40' '2' '1' ... '32' '5' '0']\n",
      " ['40' '3' '1' ... '47' '10' '1']\n",
      " ['50' '4' '1' ... '35' '13' '1']]\n"
     ]
    }
   ],
   "source": [
    "filename_data = './satisfaction_data.csv'\n",
    "#data = np.genfromtxt(filename_data, encoding = 'ascii', names=('age', 'workclass', 'fnlwgt', 'educational_num', 'marital_status', 'hours_per_week', 'satisfaction'), delimiter =',', dtype = None)\n",
    "data_feature = np.loadtxt(filename_data, delimiter =',',usecols= (0,1,2,3,4,5), dtype=int)\n",
    "data_class = np.loadtxt(filename_data, delimiter =',',usecols= (6), dtype='str')\n",
    "number_data = data_feature.shape[0]\n",
    "\n",
    "#genfromtext를 전 영역에 대해서 쓰니까 string 값들이 nan으로 나온다..\n",
    "#여기서 nan이란 not a number 라는 뜻.\n",
    "#dtype을 float64로 가져와서 발생하는 현상.\n",
    "#https://m.blog.naver.com/PostView.naver?isHttpsRedirect=true&blogId=radii26omg&logNo=221051465120\n",
    "\n",
    "#print('number of data = ', number_data)\n",
    "#print(data_feature.shape)\n",
    "#print(data_feature[0].dtype)\n",
    "#print(data_class.shape)\n"
   ]
  },
  {
   "cell_type": "markdown",
   "metadata": {},
   "source": [
    "# data inspection"
   ]
  },
  {
   "cell_type": "code",
   "execution_count": 188,
   "metadata": {},
   "outputs": [
    {
     "name": "stdout",
     "output_type": "stream",
     "text": [
      "data_col_0\n",
      "min:1.0\n",
      "max:99.0\n",
      "mean:43.22015\n",
      "var:140.24748397747882\n",
      "\n",
      "data_col_1\n",
      "min:0.0\n",
      "max:5.0\n",
      "mean:2.3586\n",
      "var:1.2923060399996893\n",
      "\n",
      "data_col_2\n",
      "min:0.0\n",
      "max:2.0\n",
      "mean:1.1708\n",
      "var:0.31852736000004944\n",
      "\n",
      "data_col_3\n",
      "min:13769.0\n",
      "max:1097453.0\n",
      "mean:184706.98085\n",
      "var:10226020824.74352\n",
      "\n",
      "data_col_4\n",
      "min:17.0\n",
      "max:90.0\n",
      "mean:39.4344\n",
      "var:165.8094966400004\n",
      "\n",
      "data_col_5\n",
      "min:1.0\n",
      "max:16.0\n",
      "mean:10.30435\n",
      "var:6.026421077499933\n",
      "\n",
      "[[1.000000e+00 9.900000e+01]\n",
      " [0.000000e+00 5.000000e+00]\n",
      " [0.000000e+00 2.000000e+00]\n",
      " [1.376900e+04 1.097453e+06]\n",
      " [1.700000e+01 9.000000e+01]\n",
      " [1.000000e+00 1.600000e+01]]\n"
     ]
    }
   ],
   "source": [
    "minmax = np.empty((6,2), float)\n",
    "\n",
    "for i in range(6):\n",
    "    print(\"data_col_\"+str(i))\n",
    "    minmax[i][0] = np.min(data_feature, axis=0)[i]\n",
    "    print(\"min:\"+str(minmax[i][0]))\n",
    "    minmax[i][1] = np.max(data_feature, axis=0)[i]\n",
    "    print(\"max:\"+str(minmax[i][1]))\n",
    "    print(\"mean:\"+str(np.mean(data_feature, axis=0)[i]))\n",
    "    print(\"var:\"+str(np.var(data_feature, axis=0)[i]))\n",
    "    print(\"\")\n",
    "print(minmax)\n"
   ]
  },
  {
   "cell_type": "markdown",
   "metadata": {},
   "source": [
    "# Normalization"
   ]
  },
  {
   "cell_type": "code",
   "execution_count": 193,
   "metadata": {},
   "outputs": [
    {
     "name": "stdout",
     "output_type": "stream",
     "text": [
      "[[0.39795918 0.4        0.5        0.06745786 0.10958904 0.53333333]\n",
      " [0.39795918 0.4        0.5        0.22659188 0.50684932 0.6       ]\n",
      " [0.39795918 0.4        0.5        0.22427571 0.35616438 0.86666667]\n",
      " ...\n",
      " [0.39795918 0.4        0.5        0.15553796 0.20547945 0.26666667]\n",
      " [0.39795918 0.6        0.5        0.03829806 0.4109589  0.6       ]\n",
      " [0.5        0.8        0.5        0.04785066 0.24657534 0.8       ]]\n",
      "[0.39795918 0.4        0.5        0.06745786 0.10958904 0.53333333]\n"
     ]
    }
   ],
   "source": [
    "# 거리를 구할 때 유클리드 거리 (l2 norm)으로 구할 예정\n",
    "# 한 요소가 너무 커버리면 그 요소에 다른게 trivial 해진다.\n",
    "# normalization을 해주자.\n",
    "normalized = np.empty((20000,6))\n",
    "#print(normalized.shape[1])\n",
    "for i in range(normalized.shape[1]):\n",
    "    normalized[:, i] = (data_feature[:, i] - minmax[i][0]) / (minmax[i][1] - minmax[i][0])\n",
    "print(normalized)\n"
   ]
  },
  {
   "cell_type": "markdown",
   "metadata": {},
   "source": [
    "# augment feature and class data"
   ]
  },
  {
   "cell_type": "code",
   "execution_count": 195,
   "metadata": {},
   "outputs": [
    {
     "name": "stdout",
     "output_type": "stream",
     "text": [
      "<U18\n"
     ]
    }
   ],
   "source": [
    "data_augmented = np.concatenate((normalized, data_class.reshape(20000, 1)), axis = 1)\n",
    "#print(data_augmented)\n",
    "#print(data_augmented)\n",
    "#print(data_augmented[0][6].dtype)\n",
    "\n",
    "#unsatisfied 는 0으로, satisfied는 1로 바꾼다.\n",
    "np.putmask(data_augmented, data_augmented == 'satisfied', 1)\n",
    "np.putmask(data_augmented, data_augmented == 'unsatisfied', 0)\n",
    "print(data_augmented[0][0].dtype)"
   ]
  },
  {
   "cell_type": "markdown",
   "metadata": {},
   "source": [
    "# KNN\n",
    "## train data set, test data set separation"
   ]
  },
  {
   "cell_type": "code",
   "execution_count": 197,
   "metadata": {},
   "outputs": [
    {
     "name": "stdout",
     "output_type": "stream",
     "text": [
      "[[0.5        0.2        0.5        0.00866304 0.35616438 0.86666667]\n",
      " [0.44897959 0.4        0.5        0.09813931 0.43835616 1.        ]\n",
      " [0.39795918 0.4        1.         0.09129691 0.09589041 0.66666667]\n",
      " ...\n",
      " [0.39795918 0.4        0.5        0.27966824 0.08219178 0.6       ]\n",
      " [0.39795918 0.4        0.5        0.19688304 0.2739726  0.13333333]\n",
      " [0.19387755 0.4        1.         0.30357835 0.         0.4       ]]\n",
      "[[1.]\n",
      " [1.]\n",
      " [0.]\n",
      " ...\n",
      " [0.]\n",
      " [0.]\n",
      " [0.]]\n"
     ]
    }
   ],
   "source": [
    "#샘플 인덱스들의 배열\n",
    "#sample_train = np.empty((0,2000), int)\n",
    "\n",
    "#for i in range(10):\n",
    "#    sample_train = np.append(sample_train, np.random.choice(20000, 2000, replace=False).reshape(1, 2000), axis=0)\n",
    "#    print(sample_train[i])\n",
    "#print(sample_train.shape)\n",
    "\n",
    "\n",
    "#데이터의 총 개수는 20000개로, 1:9로 나누면 2000, 18000이다\n",
    "#훈련데이터에 사용할 데이터를 18000, 테스트에 사용할 데이터를 2000개로 설정하자.\n",
    "#0~19999의 숫자 중에서 2000개를 샘플링한다.\n",
    "\n",
    "\n",
    "#무작위로 배열하고 2000:18000으로 split하는게 나을 듯..\n",
    "#print(data_feature.shape)\n",
    "# sample_train_x = np.empty((10, 18000, 6), np.uint64)\n",
    "# sample_train_y = np.empty((10, 18000, 1), np.uint64)\n",
    "# sample_test_x = np.empty((10, 2000, 6), np.uint64)\n",
    "# sample_test_y = np.empty((10, 2000, 1), np.uint64)\n",
    "#data_feature_mixed = np.random.permutation(data_feature)\n",
    "#print(data_feature_mixed)\n",
    "\n",
    "sample_train_x = np.empty((10, 18000, 6))\n",
    "sample_train_y = np.empty((10, 18000, 1))\n",
    "sample_test_x = np.empty((10, 2000, 6))\n",
    "sample_test_y = np.empty((10, 2000, 1))\n",
    "\n",
    "for i in range(10):\n",
    "    data_augmented_mixed = np.random.permutation(data_augmented).reshape(1, 20000, 7)\n",
    "    #print(data_augmented_mixed[0][0][6])\n",
    "    sample_train_x[i], sample_test_x[i] = data_augmented_mixed[0, 2000:, :6], data_augmented_mixed[0, :2000, :6]\n",
    "    sample_train_y[i], sample_test_y[i] = data_augmented_mixed[0, 2000:, 6].reshape(1, 18000, 1), data_augmented_mixed[0, :2000, 6].reshape(1, 2000, 1)\n",
    "#print(sample_train.shape)\n",
    "#print(sample_test.shape)\n",
    "#print(sample_train)\n",
    "print(sample_train_x[0])\n",
    "#print(sample_test_x[0])\n",
    "print(sample_train_y[0])\n",
    "#print(sample_test_y[0])"
   ]
  },
  {
   "cell_type": "markdown",
   "metadata": {},
   "source": [
    "## compute distance > 2for loops"
   ]
  },
  {
   "cell_type": "code",
   "execution_count": 200,
   "metadata": {},
   "outputs": [
    {
     "name": "stdout",
     "output_type": "stream",
     "text": [
      "[[0.47276054 0.38550258 0.74364463 ... 0.52619022 0.68999522 0.86617528]\n",
      " [0.41257385 0.63543202 0.68185983 ... 0.49982231 0.57948379 0.77835969]\n",
      " [0.42755047 0.43511719 0.5863274  ... 0.23054328 0.55647562 0.70007705]\n",
      " ...\n",
      " [0.85131655 0.92115712 0.33082672 ... 0.57697909 0.64845982 0.14591118]\n",
      " [0.80928346 0.77013434 0.31551814 ... 0.59877582 0.86365039 0.40608673]\n",
      " [0.66833082 0.7388685  0.10024286 ... 0.56447096 0.73257374 0.41246981]]\n"
     ]
    }
   ],
   "source": [
    "# 입력으로 들어오는 feature에 대해서 각각의 요소에 대해 거리를 구한다. \n",
    "# feature에 들어있는 모든 요소는 정수형이기 때문에 거리를 구할 수 있다.\n",
    "\n",
    "number_train = sample_train_x.shape[1]\n",
    "number_test = sample_test_x.shape[1]\n",
    "euclid_dists = np.zeros((number_test, number_train))\n",
    "#print(number_train, number_test)\n",
    "#print(sample_train_x[0][0])\n",
    "#print(sample_test_x[0][0])\n",
    "#print(np.square(sample_train_x[0][0] - sample_test_x[0][0]))\n",
    "#print(np.sum(np.square(sample_train_x[0][0] - sample_test_x[0][0])))\n",
    "#print(np.sqrt(np.sum(np.square(sample_train_x[0][0] - sample_test_x[0][0]))))\n",
    "\n",
    "# RuntimeWarning: invalid value encountered in sqrt\n",
    "# 루트를 계산하는데 음수가 나오는 경우에 주로 발생\n",
    "# 설계 상 음수가 나올 수 없음.. 오버플로가 일어남\n",
    "\n",
    "#print(sample_test_x[0].shape)\n",
    "#print(sample_train_x[0].shape)\n",
    "\n",
    "# 바로 l2 norm을 계산하기에는 4번째 요소가 너무 큼.\n",
    "# >> overflow\n",
    "# 데이터타입을 np.uint64로 변경\n",
    "# 또는 normalization을 할 수도?\n",
    "\n",
    "#TODO: sample 10개 돌리는 걸로 바꾸기\n",
    "#for문을 2중 루프로 돌리니 너무 느리다.\n",
    "#본인 컴퓨터 기준 샘플당 6분 6초\n",
    "#10개의 샘플을 돌리면 1시간.\n",
    "for i in range(number_test):\n",
    "    for j in range(number_train):\n",
    "        euclid_dists[i, j] = np.sqrt(np.sum(np.square(sample_test_x[0][i] - sample_train_x[0][j])))\n",
    "print(euclid_dists)"
   ]
  },
  {
   "cell_type": "code",
   "execution_count": 209,
   "metadata": {},
   "outputs": [
    {
     "name": "stdout",
     "output_type": "stream",
     "text": [
      "(2000, 18000)\n",
      "[0.47276054 0.38550258 0.74364463 ... 0.52619022 0.68999522 0.86617528]\n",
      "(2000, 18000)\n"
     ]
    }
   ],
   "source": [
    "# 테스트용 칸\n",
    "#TODO: 그래서 가장 가까운거 찾았어. 그럼 그 인덱스는 어떻게 알까나?\n",
    "#TODO: 그건 개쩌는 np.argsort를 쓰면 됨\n",
    "print(euclid_dists.shape)\n",
    "print(euclid_dists[0])\n",
    "print(euclid_dists_matrix.shape)"
   ]
  },
  {
   "cell_type": "markdown",
   "metadata": {},
   "source": [
    "## compute distance > matrix"
   ]
  },
  {
   "cell_type": "code",
   "execution_count": 202,
   "metadata": {},
   "outputs": [
    {
     "name": "stdout",
     "output_type": "stream",
     "text": [
      "[[0.47276054 0.38550258 0.74364463 ... 0.52619022 0.68999522 0.86617528]\n",
      " [0.41257385 0.63543202 0.68185983 ... 0.49982231 0.57948379 0.77835969]\n",
      " [0.42755047 0.43511719 0.5863274  ... 0.23054328 0.55647562 0.70007705]\n",
      " ...\n",
      " [0.85131655 0.92115712 0.33082672 ... 0.57697909 0.64845982 0.14591118]\n",
      " [0.80928346 0.77013434 0.31551814 ... 0.59877582 0.86365039 0.40608673]\n",
      " [0.66833082 0.7388685  0.10024286 ... 0.56447096 0.73257374 0.41246981]]\n"
     ]
    }
   ],
   "source": [
    "euclid_dists_matrix = np.zeros((number_test, number_train), dtype=np.uint64)\n",
    "\n",
    "test_matrix = np.sum(np.square(sample_test_x[0]), axis=1).reshape(number_test, 1)\n",
    "train_matrix = np.sum(np.square(sample_train_x[0]), axis=1).reshape(1, number_train)\n",
    "euclid_dists_matrix = np.sqrt(test_matrix + train_matrix -2*np.dot(sample_test_x[0], sample_train_x[0].T))\n",
    "\n",
    "print(euclid_dists_matrix)\n",
    "\n",
    "#이렇게 계산하면 0.9초만에 된다.\n",
    "#10번하면 9초!"
   ]
  },
  {
   "cell_type": "markdown",
   "metadata": {},
   "source": [
    "## difference between two calculated distance matrix"
   ]
  },
  {
   "cell_type": "code",
   "execution_count": 205,
   "metadata": {},
   "outputs": [
    {
     "name": "stdout",
     "output_type": "stream",
     "text": [
      "-4.1285255701159255e-07\n"
     ]
    }
   ],
   "source": [
    "print(np.sum(euclid_dists - euclid_dists_matrix))"
   ]
  },
  {
   "cell_type": "markdown",
   "metadata": {},
   "source": [
    "## compute prediction"
   ]
  },
  {
   "cell_type": "code",
   "execution_count": 226,
   "metadata": {},
   "outputs": [
    {
     "name": "stdout",
     "output_type": "stream",
     "text": [
      "[1. 0. 0. ... 0. 0. 0.]\n"
     ]
    }
   ],
   "source": [
    "prediction = np.empty(number_test)\n",
    "\n",
    "# 과제 참고자료에서 5라고 나옴.\n",
    "# 우선 5로 해보자.\n",
    "k = 5\n",
    "\n",
    "for i in range(number_test):\n",
    "    neareast_class = []\n",
    "    #print(sample_train_y.shape)\n",
    "    #print(np.argsort(euclid_dists_matrix[i]))\n",
    "    #print(np.argsort(euclid_dists_matrix[i]).shape)\n",
    "    neareast_class = (sample_train_y[0][np.argsort(euclid_dists_matrix[i])])[:k]\n",
    "    #print(neareast_class)\n",
    "    #print(neareast_class.shape)\n",
    "    #print(neareast_class[0].dtype)\n",
    "    neareast_class = neareast_class.astype(int)\n",
    "    prediction[i] = np.argmax(np.bincount(neareast_class.reshape(5,)))\n",
    "print(prediction)"
   ]
  },
  {
   "cell_type": "markdown",
   "metadata": {},
   "source": [
    "# compare prediction and real class"
   ]
  },
  {
   "cell_type": "code",
   "execution_count": 241,
   "metadata": {},
   "outputs": [
    {
     "name": "stdout",
     "output_type": "stream",
     "text": [
      "[0. 0. 1. ... 0. 0. 0.]\n",
      "1495\n",
      "accuracy: 74.75\n"
     ]
    }
   ],
   "source": [
    "#print(sample_test_y[0].shape) \n",
    "# (2000, 1)\n",
    "#print(prediction.reshape(number_test, 1).shape)\n",
    "# (2000, 1)\n",
    "\n",
    "print(sample_test_y[0].reshape(2000, ) - prediction)\n",
    "isAnswer = sample_test_y[0].reshape(2000, ) - prediction\n",
    "print(len(isAnswer[isAnswer == 0]))\n",
    "\n",
    "number_correct = len(isAnswer[isAnswer == 0])\n",
    "\n",
    "print(\"accuracy: \"+str((number_correct/number_test)*100))\n",
    "\n",
    "#TODO: accuracy를 올리려면? 해밍 거리밖에 없나"
   ]
  }
 ],
 "metadata": {
  "interpreter": {
   "hash": "c6f2ed22371cc6c96edb7d98cd78ad6afd824a97c19924f5a89c3f2455592d84"
  },
  "kernelspec": {
   "display_name": "Python 3.10.4 64-bit",
   "language": "python",
   "name": "python3"
  },
  "language_info": {
   "codemirror_mode": {
    "name": "ipython",
    "version": 3
   },
   "file_extension": ".py",
   "mimetype": "text/x-python",
   "name": "python",
   "nbconvert_exporter": "python",
   "pygments_lexer": "ipython3",
   "version": "3.10.4"
  },
  "orig_nbformat": 4
 },
 "nbformat": 4,
 "nbformat_minor": 2
}
