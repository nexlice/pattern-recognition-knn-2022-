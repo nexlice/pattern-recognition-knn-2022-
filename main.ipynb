{
 "cells": [
  {
   "cell_type": "markdown",
   "metadata": {},
   "source": [
    "# library import"
   ]
  },
  {
   "cell_type": "code",
   "execution_count": 126,
   "metadata": {},
   "outputs": [],
   "source": [
    "import numpy as np\n",
    "import matplotlib.image as img\n",
    "import matplotlib.pyplot as plt\n",
    "import matplotlib.colors as colors"
   ]
  },
  {
   "cell_type": "markdown",
   "metadata": {},
   "source": [
    "# data loading"
   ]
  },
  {
   "cell_type": "code",
   "execution_count": 127,
   "metadata": {},
   "outputs": [
    {
     "name": "stdout",
     "output_type": "stream",
     "text": [
      "[['40' '2' '1' ... '25' '9' '0']\n",
      " ['40' '2' '1' ... '54' '10' '1']\n",
      " ['40' '2' '1' ... '43' '14' '1']\n",
      " ...\n",
      " ['40' '2' '1' ... '32' '5' '0']\n",
      " ['40' '3' '1' ... '47' '10' '1']\n",
      " ['50' '4' '1' ... '35' '13' '1']]\n"
     ]
    }
   ],
   "source": [
    "filename_data = './satisfaction_data.csv'\n",
    "#data = np.genfromtxt(filename_data, encoding = 'ascii', names=('age', 'workclass', 'fnlwgt', 'educational_num', 'marital_status', 'hours_per_week', 'satisfaction'), delimiter =',', dtype = None)\n",
    "data_feature = np.loadtxt(filename_data, delimiter =',',usecols= (0,1,2,3,4,5), dtype=int)\n",
    "data_class = np.loadtxt(filename_data, delimiter =',',usecols= (6), dtype='str')\n",
    "number_data = data_feature.shape[0]\n",
    "\n",
    "#genfromtext를 전 영역에 대해서 쓰니까 string 값들이 nan으로 나온다..s\n",
    "#여기서 nan이란 not a number 라는 뜻.\n",
    "#dtype을 float64로 가져와서 발생하는 현상.\n",
    "#https://m.blog.naver.com/PostView.naver?isHttpsRedirect=true&blogId=radii26omg&logNo=221051465120\n",
    "\n",
    "#print('number of data = ', number_data)\n",
    "#print(data_feature.shape)\n",
    "#print(data_class.shape)\n",
    "data_augmented = np.concatenate((data_feature, data_class.reshape(20000, 1)), axis = 1)\n",
    "#print(data_augmented)\n",
    "#print(data_augmented)\n",
    "#print(data_augmented[0][6].dtype)\n",
    "\n",
    "#unsatisfied 는 0으로, satisfied는 1로 바꾼다.\n",
    "np.putmask(data_augmented, data_augmented == 'satisfied', 1)\n",
    "np.putmask(data_augmented, data_augmented == 'unsatisfied', 0)\n",
    "print(data_augmented)\n"
   ]
  },
  {
   "cell_type": "markdown",
   "metadata": {},
   "source": [
    "# KNN\n",
    "## train data set, test data set separation"
   ]
  },
  {
   "cell_type": "code",
   "execution_count": 128,
   "metadata": {},
   "outputs": [],
   "source": [
    "#샘플 인덱스들의 배열\n",
    "#sample_train = np.empty((0,2000), int)\n",
    "\n",
    "#for i in range(10):\n",
    "#    sample_train = np.append(sample_train, np.random.choice(20000, 2000, replace=False).reshape(1, 2000), axis=0)\n",
    "#    print(sample_train[i])\n",
    "#print(sample_train.shape)\n",
    "\n",
    "\n",
    "#데이터의 총 개수는 20000개로, 1:9로 나누면 2000, 18000이다\n",
    "#훈련데이터에 사용할 데이터를 18000, 테스트에 사용할 데이터를 2000개로 설정하자.\n",
    "#0~19999의 숫자 중에서 2000개를 샘플링한다.\n",
    "\n",
    "\n",
    "#무작위로 배열하고 2000:18000으로 split하는게 나을 듯..\n",
    "#print(data_feature.shape)\n",
    "sample_train_x = np.empty((10, 18000, 6), int)\n",
    "sample_train_y = np.empty((10, 18000, 1), int)\n",
    "sample_test_x = np.empty((10, 2000, 6), int)\n",
    "sample_test_y = np.empty((10, 2000, 1), int)\n",
    "#data_feature_mixed = np.random.permutation(data_feature)\n",
    "#print(data_feature_mixed)\n",
    "for i in range(10):\n",
    "    data_augmented_mixed = np.random.permutation(data_augmented).reshape(1, 20000, 7)\n",
    "    #print(data_augmented_mixed[0][0][6])\n",
    "    sample_train_x[i], sample_test_x[i] = data_augmented_mixed[0, 2000:, :6], data_augmented_mixed[0, :2000, :6]\n",
    "    sample_train_y[i], sample_test_y[i] = data_augmented_mixed[0, 2000:, 6].reshape(1, 18000, 1), data_augmented_mixed[0, :2000, 6].reshape(1, 2000, 1)\n",
    "#print(sample_train.shape)\n",
    "#print(sample_test.shape)\n",
    "#print(sample_train)\n",
    "#print(sample_train_x[0])\n",
    "#print(sample_test_x[0])\n",
    "#print(sample_train_y[0])\n",
    "#print(sample_test_y[0])"
   ]
  },
  {
   "cell_type": "markdown",
   "metadata": {},
   "source": [
    "## prediction"
   ]
  },
  {
   "cell_type": "code",
   "execution_count": 135,
   "metadata": {},
   "outputs": [
    {
     "ename": "SyntaxError",
     "evalue": "expected ':' (2929639720.py, line 9)",
     "output_type": "error",
     "traceback": [
      "\u001b[1;36m  Input \u001b[1;32mIn [135]\u001b[1;36m\u001b[0m\n\u001b[1;33m    for j in range(number_train)\u001b[0m\n\u001b[1;37m                                ^\u001b[0m\n\u001b[1;31mSyntaxError\u001b[0m\u001b[1;31m:\u001b[0m expected ':'\n"
     ]
    }
   ],
   "source": [
    "# 입력으로 들어오는 feature에 대해서 각각의 요소에 대해 거리를 구한다. \n",
    "# feature에 들어있는 모든 요소는 정수형이기 때문에 거리를 구할 수 있다.\n",
    "\n",
    "number_train = sample_train_x.shape[1]\n",
    "number_test = sample_test_x.shape[1]\n",
    "euclid_dists = np.zeros((number_test, number_train))\n",
    "print(number_train, number_test)\n",
    "for i in range(number_test):\n",
    "    for j in range(number_train):\n",
    "        euclid_dists[i, j] = np.sqrt(np.sum(np.square(sample_train_x[0][j] - sample_test_x[0][i])))\n",
    "print(euclid_dists)"
   ]
  },
  {
   "cell_type": "code",
   "execution_count": null,
   "metadata": {},
   "outputs": [],
   "source": []
  }
 ],
 "metadata": {
  "interpreter": {
   "hash": "c6f2ed22371cc6c96edb7d98cd78ad6afd824a97c19924f5a89c3f2455592d84"
  },
  "kernelspec": {
   "display_name": "Python 3.10.4 64-bit",
   "language": "python",
   "name": "python3"
  },
  "language_info": {
   "codemirror_mode": {
    "name": "ipython",
    "version": 3
   },
   "file_extension": ".py",
   "mimetype": "text/x-python",
   "name": "python",
   "nbconvert_exporter": "python",
   "pygments_lexer": "ipython3",
   "version": "3.10.4"
  },
  "orig_nbformat": 4
 },
 "nbformat": 4,
 "nbformat_minor": 2
}
